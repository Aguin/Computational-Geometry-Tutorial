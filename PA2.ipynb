{
 "cells": [
  {
   "cell_type": "markdown",
   "metadata": {},
   "source": [
    "# PA2: 3D Bounding Box\n",
    "\n",
    "实现`Graham法(求凸包)`和`旋转卡壳`求点云的最小外接矩形, 辅助函数和整体框架已实现, 请填补`get_convex_hull`和`get_min_box`函数中缺失的部分, 最终效果如下图:\n",
    "![pa2_show1](./data/pa2_show1.png)\n",
    "![pa2_show2](./data/pa2_show2.png)"
   ]
  },
  {
   "cell_type": "code",
   "execution_count": null,
   "metadata": {},
   "outputs": [],
   "source": [
    "import numpy as np\n",
    "import matplotlib.pyplot as plt\n",
    "from mpl_toolkits.mplot3d.art3d import Poly3DCollection\n"
   ]
  },
  {
   "cell_type": "markdown",
   "metadata": {},
   "source": [
    "`get_convex_hull`函数接收[N, 2]点集`pts`, 输出凸包顶点列表.\n",
    "1. 选择一个凸包上的点(例如y最小的点)作为起始点.\n",
    "2. 其余点按照与起始点连线的夹角排序(极角排序).\n",
    "3. 按顺序枚举点, 若当前点和栈内最后一个点构成凹角则丢弃栈内最后的点, 否则将当前点入栈."
   ]
  },
  {
   "cell_type": "code",
   "execution_count": null,
   "metadata": {},
   "outputs": [],
   "source": [
    "def get_convex_hull(pts):\n",
    "    start_idx = np.argmin(pts[:, 1])\n",
    "    # Q1: calculate theta and sort all points in increasing order of angle\n",
    "    theta = None\n",
    "    sorted_indices = np.argsort(theta)\n",
    "    convex_hull = [start_idx]\n",
    "    for idx in sorted_indices:\n",
    "        if idx == start_idx:\n",
    "            continue\n",
    "        while len(convex_hull) > 1:\n",
    "            p = pts[idx]\n",
    "            pc_1 = pts[convex_hull[-1]]\n",
    "            pc_2 = pts[convex_hull[-2]]\n",
    "            # Q2: condition for discarding the last point\n",
    "            cond = None\n",
    "            if cond:\n",
    "                convex_hull.pop()\n",
    "            else:\n",
    "                break\n",
    "        convex_hull.append(idx)\n",
    "    return convex_hull\n"
   ]
  },
  {
   "cell_type": "markdown",
   "metadata": {},
   "source": [
    "运行下面代码块检查生成凸包的正确性."
   ]
  },
  {
   "cell_type": "code",
   "execution_count": null,
   "metadata": {},
   "outputs": [],
   "source": [
    "axes = plt.subplots(1, 3, figsize=(15, 4))[1]\n",
    "cdict = dict(\n",
    "    Cyclist=plt.get_cmap(\"Set2\")(5),\n",
    "    Pedestrian=plt.get_cmap(\"tab20\")(0),\n",
    "    Car=plt.get_cmap(\"tab20\")(6),\n",
    ")\n",
    "for ax, name in zip(axes, cdict):\n",
    "    pts = np.fromfile(f\"./data/pa2_{name}.bin\", dtype=np.float32).reshape(-1, 4)[:, :2]\n",
    "    pts = pts[:, :2]\n",
    "    convex_hull = get_convex_hull(pts)\n",
    "    poly = pts[convex_hull]\n",
    "    ax.axis(\"off\")\n",
    "    ax.set_aspect(\"equal\")\n",
    "    ax.scatter(pts[:, 0], pts[:, 1], s=1, color=cdict[name])\n",
    "    ax.plot(\n",
    "        np.concatenate([poly[:, 0], poly[:1, 0]]),\n",
    "        np.concatenate([poly[:, 1], poly[:1, 1]]),\n",
    "        c=\"k\",\n",
    "        linewidth=3,\n",
    "    )\n",
    "plt.tight_layout()\n",
    "plt.show()\n"
   ]
  },
  {
   "cell_type": "markdown",
   "metadata": {},
   "source": [
    "若能正确生成凸包请继续, `get_box`函数根据`Left`/`Bottom`/`Right`/`Top`四点生成外接矩形."
   ]
  },
  {
   "cell_type": "code",
   "execution_count": null,
   "metadata": {},
   "outputs": [],
   "source": [
    "def get_box(poly2, L, B, R, T):\n",
    "    edge = poly2[L + 1] - poly2[L]\n",
    "    norm = np.linalg.norm(edge)\n",
    "    d = edge / norm\n",
    "    p1 = poly2[L] + np.dot(d, poly2[T] - poly2[L]) * d\n",
    "    p2 = poly2[L] + np.dot(d, poly2[B] - poly2[L]) * d\n",
    "    p3 = p2 + poly2[R] - poly2[L] - np.dot(d, poly2[R] - poly2[L]) * d\n",
    "    p4 = p1 + poly2[R] - poly2[L] - np.dot(d, poly2[R] - poly2[L]) * d\n",
    "    return np.stack([p1, p2, p3, p4])\n"
   ]
  },
  {
   "cell_type": "markdown",
   "metadata": {},
   "source": [
    "`get_min_box`函数接收形为[N, 2]的凸多边形`poly`, 输出最小外接矩形.\n",
    "1. 由于枚举的过程中最优的顶点可能会跨过最后一个点`N-1`, 然后继续从`0`开始, 为了避免下标越界, 可以直接将`poly`复制一份`concat`.\n",
    "2. 首先枚举左边界`Left`, 我们规定它为`poly[L]`与`poly[L + 1]`构成的这条边, 计算其模长与方向向量.\n",
    "3. 移动下顶点`B(Bottom)`, 直至下顶点投影长度不能再增加.\n",
    "4. 移动右顶点`R(Right)`, 直至右顶点至`Left`边的距离不能再增加.\n",
    "5. 移动上顶点`T(Top)`, 直至上顶点投影长度不能再增加.\n",
    "6. 计算面积, 若小于当前最小面积, 更新最小面积与对应的box(调用`get_box`函数)."
   ]
  },
  {
   "cell_type": "code",
   "execution_count": null,
   "metadata": {},
   "outputs": [],
   "source": [
    "def get_min_box(poly):\n",
    "    N = len(poly)\n",
    "    poly2 = np.concatenate([poly, poly])\n",
    "    B, R, T = 0, 0, 0\n",
    "    min_area = np.inf\n",
    "    min_box = None\n",
    "    for L in range(N):  # enumerate Left edge\n",
    "        edge = poly2[L + 1] - poly2[L]  # edge vector\n",
    "        norm = np.linalg.norm(edge)  # norm of edge vector\n",
    "        d = edge / norm  # direction vector\n",
    "        if norm == 0:\n",
    "            continue\n",
    "        B = max(B, L + 1)\n",
    "        while True:  # check Bottom point\n",
    "            cur_proj_b = np.dot(d, poly2[B])\n",
    "            nxt_proj_b = np.dot(d, poly2[B + 1])\n",
    "            # Q3: condition for moving Bottom point forward\n",
    "            cond_b = None\n",
    "            if cond_b:\n",
    "                B += 1\n",
    "            else:\n",
    "                break\n",
    "        R = max(R, B)\n",
    "        while True:  # check Right point\n",
    "            cur_dis = np.abs(np.cross(d, poly2[R] - poly2[L]))\n",
    "            nxt_dis = np.abs(np.cross(d, poly2[R + 1] - poly2[L]))\n",
    "            # Q4: condition for moving Right point forward\n",
    "            cond_r = None\n",
    "            if cond_r:\n",
    "                R += 1\n",
    "            else:\n",
    "                break\n",
    "        T = max(T, R)\n",
    "        while True:  # check Top point\n",
    "            cur_proj_t = np.dot(d, poly2[T])\n",
    "            nxt_proj_t = np.dot(d, poly2[T + 1])\n",
    "            # Q5: condition for moving Top point forward\n",
    "            cond_t = None\n",
    "            if cond_t:\n",
    "                T += 1\n",
    "            else:\n",
    "                break\n",
    "        width = np.abs(np.cross(d, poly2[R] - poly2[L]))\n",
    "        height = np.abs(np.dot(d, poly2[T] - poly2[B]))\n",
    "        area = width * height\n",
    "        if area < min_area:\n",
    "            min_area = area\n",
    "            min_box = get_box(poly2, L, B, R, T)\n",
    "    return min_box\n"
   ]
  },
  {
   "cell_type": "markdown",
   "metadata": {},
   "source": [
    "运行下方代码可视化BEV, 验证最小外接矩形是否正确."
   ]
  },
  {
   "cell_type": "code",
   "execution_count": null,
   "metadata": {},
   "outputs": [],
   "source": [
    "axes = plt.subplots(1, 3, figsize=(15, 4))[1]\n",
    "cdict = dict(\n",
    "    Cyclist=plt.get_cmap(\"Set2\")(5),\n",
    "    Pedestrian=plt.get_cmap(\"tab20\")(0),\n",
    "    Car=plt.get_cmap(\"tab20\")(6),\n",
    ")\n",
    "for ax, name in zip(axes, cdict):\n",
    "    pts = np.fromfile(f\"./data/pa2_{name}.bin\", dtype=np.float32).reshape(-1, 4)[:, :2]\n",
    "    pts = pts[:, :2]\n",
    "    convex_hull = get_convex_hull(pts)\n",
    "    poly = pts[convex_hull]\n",
    "    bbox = get_min_box(poly)\n",
    "    ax.axis(\"off\")\n",
    "    ax.set_aspect(\"equal\")\n",
    "    ax.scatter(pts[:, 0], pts[:, 1], s=1, color=cdict[name])\n",
    "    ax.plot(\n",
    "        np.concatenate([poly[:, 0], poly[:1, 0]]),\n",
    "        np.concatenate([poly[:, 1], poly[:1, 1]]),\n",
    "        c=\"k\",\n",
    "        linewidth=3,\n",
    "    )\n",
    "    ax.plot(\n",
    "        np.concatenate([bbox[:, 0], bbox[:1, 0]]),\n",
    "        np.concatenate([bbox[:, 1], bbox[:1, 1]]),\n",
    "        c=\"g\",\n",
    "    )\n",
    "    ax.fill(bbox[:, 0], bbox[:, 1], alpha=0.3, c=\"g\")\n",
    "plt.tight_layout()\n",
    "plt.show()\n"
   ]
  },
  {
   "cell_type": "markdown",
   "metadata": {},
   "source": [
    "运行下方代码展示3D结果."
   ]
  },
  {
   "cell_type": "code",
   "execution_count": null,
   "metadata": {},
   "outputs": [],
   "source": [
    "def draw_poly(ax, x, y, z):\n",
    "    vertices = [list(zip(x, y, z))]\n",
    "    poly = Poly3DCollection(vertices, alpha=0.1, color=\"g\")\n",
    "    ax.add_collection3d(poly)\n",
    "\n",
    "\n",
    "def draw_box3d(ax, bbox, z_min, z_max):\n",
    "    draw_poly(ax, bbox[:, 0], bbox[:, 1], [z_min] * 4)\n",
    "    draw_poly(ax, bbox[:, 0], bbox[:, 1], [z_max] * 4)\n",
    "    for i in range(4):\n",
    "        x = [bbox[i, 0], bbox[(i + 1) % 4, 0], bbox[(i + 1) % 4, 0], bbox[i, 0]]\n",
    "        y = [bbox[i, 1], bbox[(i + 1) % 4, 1], bbox[(i + 1) % 4, 1], bbox[i, 1]]\n",
    "        z = [z_min, z_min, z_max, z_max]\n",
    "        draw_poly(ax, x, y, z)\n"
   ]
  },
  {
   "cell_type": "code",
   "execution_count": null,
   "metadata": {},
   "outputs": [],
   "source": [
    "fig = plt.figure(figsize=(15, 15))\n",
    "for i, name in enumerate(cdict):\n",
    "    pts = np.fromfile(f\"./data/pa2_{name}.bin\", dtype=np.float32).reshape(-1, 4)\n",
    "    z_min, z_max = pts[:, 2].min(), pts[:, 2].max()\n",
    "    pts2d = pts[:, :2]\n",
    "    convex_hull = get_convex_hull(pts2d)\n",
    "    poly = pts2d[convex_hull]\n",
    "    bbox = get_min_box(poly)\n",
    "    ax = fig.add_subplot(1, 3, i + 1, projection=\"3d\")\n",
    "    ax.axis(\"off\")\n",
    "    ax.scatter(pts[:, 0], pts[:, 1], pts[:, 2], color=cdict[name])\n",
    "    draw_box3d(ax, bbox, z_min, z_max)\n",
    "    ax.set_box_aspect(\n",
    "        [ub - lb for lb, ub in (getattr(ax, f\"get_{a}lim\")() for a in \"xyz\")]\n",
    "    )\n",
    "plt.tight_layout()\n",
    "plt.show()\n"
   ]
  }
 ],
 "metadata": {
  "kernelspec": {
   "display_name": "Python 3.7.13 ('tvm': venv)",
   "language": "python",
   "name": "python3"
  },
  "language_info": {
   "codemirror_mode": {
    "name": "ipython",
    "version": 3
   },
   "file_extension": ".py",
   "mimetype": "text/x-python",
   "name": "python",
   "nbconvert_exporter": "python",
   "pygments_lexer": "ipython3",
   "version": "3.7.13"
  },
  "orig_nbformat": 4,
  "vscode": {
   "interpreter": {
    "hash": "341a80c59a3ec9d769ab0e0928ba401a5b9b98de67015334e0ba45c81c270ad5"
   }
  }
 },
 "nbformat": 4,
 "nbformat_minor": 2
}
