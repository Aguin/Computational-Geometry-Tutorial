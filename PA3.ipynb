{
 "cells": [
  {
   "cell_type": "markdown",
   "metadata": {},
   "source": [
    "# PA3: 3D IOU (yaw)\n",
    "实现`半平面交`求带yaw角的3D box的交集, 辅助函数和整体框架已实现, 请填补`half_planes_inter`函数中缺失的部分, 最终效果如下图:\n",
    "![pa3_show1](./data/pa3_show1.png)\n",
    "![pa3_show2](./data/pa3_show2.png)"
   ]
  },
  {
   "cell_type": "code",
   "execution_count": null,
   "metadata": {},
   "outputs": [],
   "source": [
    "import numpy as np\n",
    "import matplotlib.pyplot as plt\n",
    "from mpl_toolkits.mplot3d.art3d import Poly3DCollection\n"
   ]
  },
  {
   "cell_type": "markdown",
   "metadata": {},
   "source": [
    "`line_inter`求直线AB和CD的交点."
   ]
  },
  {
   "cell_type": "code",
   "execution_count": null,
   "metadata": {},
   "outputs": [],
   "source": [
    "def line_inter(A, B, C, D):\n",
    "    return A + (B - A) * np.cross(C - A, D - C) / np.cross(B - A, D - C)\n"
   ]
  },
  {
   "cell_type": "markdown",
   "metadata": {},
   "source": [
    "`half_planes_inter`接受半平面列表`planes`, 其中每个元素是[2, 2]数组表示一个半平面的起点和终点, 规定半平面为逆时针侧.\n",
    "1. 对半平面按斜率排序, 并对斜率相同的去重, 这里使用了字典进行去重.\n",
    "2. 枚举半平面, 若有交点在该半平面外侧则剔除那些交点对应的半平面, 完成后求新加入的半平面与队尾半平面的交点.\n",
    "3. 枚举完成后再用队首半平面剔除不合法的交点, 最后求队首和队尾的交点."
   ]
  },
  {
   "cell_type": "code",
   "execution_count": null,
   "metadata": {},
   "outputs": [],
   "source": [
    "def half_planes_inter(planes):\n",
    "    planes_dict = {}\n",
    "    for pl in planes:\n",
    "        # Q1: sort half-planes by angle (use np.arctan2)\n",
    "        theta = None\n",
    "        if theta in planes_dict:\n",
    "            if np.cross(pl[1] - pl[0], planes_dict[theta][0] - pl[0]) < 0:\n",
    "                planes_dict[theta] = pl\n",
    "        else:\n",
    "            planes_dict[theta] = pl\n",
    "    sorted_planes = [planes_dict[k] for k in sorted(planes_dict.keys())]\n",
    "\n",
    "    deque, inter = [], []\n",
    "    for pl in sorted_planes:\n",
    "        while len(deque) > 1:\n",
    "            # Q2: condition for discarding the backmost half-plane\n",
    "            cond1 = None\n",
    "            if cond1:\n",
    "                deque, inter = deque[:-1], inter[:-1]\n",
    "            else:\n",
    "                break\n",
    "        while len(deque) > 1:\n",
    "            # Q3: ondition for discarding the foremost half-plane\n",
    "            cond2 = None\n",
    "            if cond2:\n",
    "                deque, inter = deque[1:], inter[1:]\n",
    "            else:\n",
    "                break\n",
    "        deque.append(pl)\n",
    "        if len(deque) > 1:\n",
    "            inter.append(line_inter(*deque[-1], *deque[-2]))\n",
    "    while len(deque) > 1:\n",
    "        # Q4: condition for discarding the backmost half-plane before closing the polygon\n",
    "        cond3 = None\n",
    "        if cond3:\n",
    "            deque, inter = deque[:-1], inter[:-1]\n",
    "        else:\n",
    "            break\n",
    "    if len(deque) > 2:\n",
    "        inter.append(line_inter(*deque[0], *deque[-1]))\n",
    "    if len(inter):\n",
    "        return np.stack(inter)\n",
    "    else:\n",
    "        return np.array([])\n"
   ]
  },
  {
   "cell_type": "markdown",
   "metadata": {},
   "source": [
    "运行下方代码可视化BEV结果."
   ]
  },
  {
   "cell_type": "code",
   "execution_count": null,
   "metadata": {},
   "outputs": [],
   "source": [
    "def get_bottom_corners(box3d):\n",
    "    cx, cy, cz, w, l, h, alpha = box3d\n",
    "    rot = np.array([[np.cos(alpha), -np.sin(alpha)], [np.sin(alpha), np.cos(alpha)]])\n",
    "    bottom_corners = np.array(\n",
    "        [\n",
    "            [w / 2, -l / 2],\n",
    "            [w / 2, l / 2],\n",
    "            [-w / 2, l / 2],\n",
    "            [-w / 2, -l / 2],\n",
    "        ]\n",
    "    ) @ rot.T + np.array([cx, cy])\n",
    "    return bottom_corners\n",
    "    \n",
    "def box3d_to_half_planes(box3d):\n",
    "    bottom_corners = get_bottom_corners(box3d)\n",
    "    return [bottom_corners[[i, (i + 1) % 4]] for i in range(4)]"
   ]
  },
  {
   "cell_type": "code",
   "execution_count": null,
   "metadata": {},
   "outputs": [],
   "source": [
    "box1 = [-8.3, 2.3, -1.2, 5.2, 10.9, 4.7, np.pi / 6]\n",
    "box2 = [1.2, 2.4, 0.2, 6.2, 11.2, 3.8, np.pi / 3]\n",
    "planes1 = box3d_to_half_planes(box1)\n",
    "planes2 = box3d_to_half_planes(box2)\n",
    "\n",
    "plt.figure(figsize=(15, 5))\n",
    "for i in range(0, 24, 4):\n",
    "    plt.subplot(2, 3, i // 4 + 1)\n",
    "    plt.xlim([-15, 20])\n",
    "    plt.ylim([-5, 10])\n",
    "    plt.gca().set_aspect(\"equal\")\n",
    "    plt.axis(\"off\")\n",
    "    edges1 = np.concatenate(planes1) + np.array([i, 0])\n",
    "    plt.plot(edges1[:, 0], edges1[:, 1])\n",
    "    edges2 = np.concatenate(planes2)\n",
    "    plt.plot(edges2[:, 0], edges2[:, 1])\n",
    "    inter = half_planes_inter([e + np.array([i, 0]) for e in planes1] + planes2)\n",
    "    if len(inter):\n",
    "        plt.fill(inter[:, 0], inter[:, 1])\n",
    "plt.tight_layout()\n",
    "plt.show()\n"
   ]
  },
  {
   "cell_type": "markdown",
   "metadata": {},
   "source": [
    "运行下方代码可视化3D结果."
   ]
  },
  {
   "cell_type": "code",
   "execution_count": null,
   "metadata": {},
   "outputs": [],
   "source": [
    "def draw_poly(ax, x, y, z, c):\n",
    "    vertices = [list(zip(x, y, z))]\n",
    "    poly = Poly3DCollection(vertices, alpha=0.1, color=c)\n",
    "    ax.add_collection3d(poly)\n",
    "\n",
    "\n",
    "def draw_box3d(ax, box3d, c):\n",
    "    z_min, z_max = box3d[2] - box3d[5] / 2, box3d[2] + box3d[5] / 2\n",
    "    bottom_corners = get_bottom_corners(box3d)\n",
    "    draw_poly(ax, bottom_corners[:, 0], bottom_corners[:, 1], [z_min] * 4, c)\n",
    "    ax.scatter(bottom_corners[:, 0], bottom_corners[:, 1], [z_min] * 4, color=c)\n",
    "    draw_poly(ax, bottom_corners[:, 0], bottom_corners[:, 1], [z_max] * 4, c)\n",
    "    ax.scatter(bottom_corners[:, 0], bottom_corners[:, 1], [z_max] * 4, color=c)\n",
    "    for i in range(4):\n",
    "        x = [bottom_corners[i, 0], bottom_corners[(i + 1) % 4, 0], bottom_corners[(i + 1) % 4, 0], bottom_corners[i, 0]]\n",
    "        y = [bottom_corners[i, 1], bottom_corners[(i + 1) % 4, 1], bottom_corners[(i + 1) % 4, 1], bottom_corners[i, 1]]\n",
    "        z = [z_min, z_min, z_max, z_max]\n",
    "        draw_poly(ax, x, y, z, c)\n",
    "\n",
    "def draw_inter(ax, inter, z_min, z_max, c):\n",
    "    N = len(inter)\n",
    "    draw_poly(ax, inter[:, 0], inter[:, 1], [z_min] * N, c)\n",
    "    ax.scatter(inter[:, 0], inter[:, 1], [z_min] * N, color=c)\n",
    "    draw_poly(ax, inter[:, 0], inter[:, 1], [z_max] * N, c)\n",
    "    ax.scatter(inter[:, 0], inter[:, 1], [z_max] * N, color=c)\n",
    "    for i in range(N):\n",
    "        x = [inter[i, 0], inter[(i + 1) % N, 0], inter[(i + 1) % N, 0], inter[i, 0]]\n",
    "        y = [inter[i, 1], inter[(i + 1) % N, 1], inter[(i + 1) % N, 1], inter[i, 1]]\n",
    "        z = [z_min, z_min, z_max, z_max]\n",
    "        draw_poly(ax, x, y, z, c)"
   ]
  },
  {
   "cell_type": "code",
   "execution_count": null,
   "metadata": {},
   "outputs": [],
   "source": [
    "box1 = [0, 6.3, 1.2, 5.2, 13.9, 4.7, np.pi / 6]\n",
    "box2 = [1.2, 2.4, 0.2, 6.2, 11.2, 3.8, np.pi / 3]\n",
    "inter = half_planes_inter(box3d_to_half_planes(box1) + box3d_to_half_planes(box2))\n",
    "z_min = max(box1[2] - box1[5] / 2, box2[2] - box2[5] / 2)\n",
    "z_max = min(box1[2] + box1[5] / 2, box2[2] + box2[5] / 2)\n",
    "\n",
    "fig = plt.figure(figsize=(15, 15))\n",
    "ax = fig.add_subplot(projection=\"3d\")\n",
    "ax.axis(\"off\")\n",
    "draw_box3d(ax, box1, \"r\")\n",
    "draw_box3d(ax, box2, \"g\")\n",
    "draw_inter(ax, inter, z_min, z_max, \"b\")\n",
    "ax.set_box_aspect([ub - lb for lb, ub in (getattr(ax, f\"get_{a}lim\")() for a in \"xyz\")])\n",
    "ax.view_init(30, 0)\n",
    "plt.tight_layout()\n",
    "plt.show()\n"
   ]
  }
 ],
 "metadata": {
  "kernelspec": {
   "display_name": "Python 3.7.13 ('tvm': venv)",
   "language": "python",
   "name": "python3"
  },
  "language_info": {
   "codemirror_mode": {
    "name": "ipython",
    "version": 3
   },
   "file_extension": ".py",
   "mimetype": "text/x-python",
   "name": "python",
   "nbconvert_exporter": "python",
   "pygments_lexer": "ipython3",
   "version": "3.7.13"
  },
  "orig_nbformat": 4,
  "vscode": {
   "interpreter": {
    "hash": "341a80c59a3ec9d769ab0e0928ba401a5b9b98de67015334e0ba45c81c270ad5"
   }
  }
 },
 "nbformat": 4,
 "nbformat_minor": 2
}
